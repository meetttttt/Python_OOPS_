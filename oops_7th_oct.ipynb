{
  "nbformat": 4,
  "nbformat_minor": 0,
  "metadata": {
    "colab": {
      "provenance": []
    },
    "kernelspec": {
      "name": "python3",
      "display_name": "Python 3"
    },
    "language_info": {
      "name": "python"
    }
  },
  "cells": [
    {
      "cell_type": "markdown",
      "source": [
        "Problem 1: Bank Account Create a class representing a bank account with attributes like account number, account holder name, and balance. Implement methods to deposit and withdraw money from the account."
      ],
      "metadata": {
        "id": "NDVt68zwZmI_"
      }
    },
    {
      "cell_type": "code",
      "execution_count": 1,
      "metadata": {
        "colab": {
          "base_uri": "https://localhost:8080/"
        },
        "id": "J0T3FlLcZh3P",
        "outputId": "ba9a83e5-d779-44d3-a194-d4f4accc9230"
      },
      "outputs": [
        {
          "output_type": "stream",
          "name": "stdout",
          "text": [
            "Account Number: 123456\n",
            "Account Holder: John Doe\n",
            "Balance: $1000\n",
            "$500 deposited successfully. New balance is $1500.\n",
            "$200 withdrawn successfully. New balance is $1300.\n",
            "Account balance for John Doe is $1300\n"
          ]
        }
      ],
      "source": [
        "class BankAccount:\n",
        "    def __init__(self, account_number, account_holder_name, balance=0):\n",
        "        # Constructor to initialize the account with account number, account holder name, and balance.\n",
        "        self.account_number = account_number\n",
        "        self.account_holder_name = account_holder_name\n",
        "        self.balance = balance\n",
        "\n",
        "    def deposit(self, amount):\n",
        "        if amount > 0:\n",
        "            # Check if the deposit amount is valid (greater than 0).\n",
        "            self.balance += amount\n",
        "            return f\"${amount} deposited successfully. New balance is ${self.balance}.\"\n",
        "        else:\n",
        "            return \"Invalid deposit amount. Amount must be greater than 0.\"\n",
        "\n",
        "    def withdraw(self, amount):\n",
        "        if amount > 0 and amount <= self.balance:\n",
        "            # Check if the withdrawal amount is valid and there are sufficient funds.\n",
        "            self.balance -= amount\n",
        "            return f\"${amount} withdrawn successfully. New balance is ${self.balance}.\"\n",
        "        elif amount <= 0:\n",
        "            return \"Invalid withdrawal amount. Amount must be greater than 0.\"\n",
        "        else:\n",
        "            return \"Insufficient funds. Cannot withdraw.\"\n",
        "\n",
        "    def get_balance(self):\n",
        "        # Method to get the current account balance.\n",
        "        return f\"Account balance for {self.account_holder_name} is ${self.balance}\"\n",
        "\n",
        "    def __str__(self):\n",
        "        # Custom string representation of the object.\n",
        "        return f\"Account Number: {self.account_number}\\nAccount Holder: {self.account_holder_name}\\nBalance: ${self.balance}\"\n",
        "\n",
        "# Usage example:\n",
        "if __name__ == \"__main__\":\n",
        "    account = BankAccount(\"123456\", \"John Doe\", 1000)\n",
        "    print(account)  # Display account information\n",
        "    print(account.deposit(500))  # Deposit $500\n",
        "    print(account.withdraw(200))  # Withdraw $200\n",
        "    print(account.get_balance())  # Check the balance\n"
      ]
    },
    {
      "cell_type": "markdown",
      "source": [
        "In this code:\n",
        "\n",
        "- This BankAccount class initializes with an account number, account holder name, and an optional initial balance (defaulted to 0).\n",
        "- You can deposit and withdraw money using the deposit and withdraw methods. The get_balance method allows you to check the current account balance, and the __str__ method provides a string representation of the account."
      ],
      "metadata": {
        "id": "a0L40GRbaOVE"
      }
    },
    {
      "cell_type": "markdown",
      "source": [
        "Problem 2: Employee Management Create a class representing an employee with attributes like employee ID, name, and salary. Implement methods to calculate the yearly bonus and display employee details."
      ],
      "metadata": {
        "id": "RxeuEh-SZ49m"
      }
    },
    {
      "cell_type": "code",
      "source": [
        "class Employee:\n",
        "    def __init__(self, employee_id, name, salary):\n",
        "        # Constructor to initialize employee attributes.\n",
        "        self.employee_id = employee_id\n",
        "        self.name = name\n",
        "        self.salary = salary\n",
        "\n",
        "    def calculate_yearly_bonus(self, bonus_percentage):\n",
        "        # Method to calculate yearly bonus based on a given bonus percentage.\n",
        "        if bonus_percentage >= 0:\n",
        "            bonus = (bonus_percentage / 100) * self.salary\n",
        "            return bonus\n",
        "        else:\n",
        "            return 0  # If the bonus percentage is negative, no bonus is given.\n",
        "\n",
        "    def display_details(self):\n",
        "        # Method to display employee details.\n",
        "        return f\"Employee ID: {self.employee_id}\\nName: {self.name}\\nSalary: ${self.salary}\"\n",
        "\n",
        "# Usage example:\n",
        "if __name__ == \"__main__\":\n",
        "    employee = Employee(\"E123\", \"John Doe\", 50000)\n",
        "    print(employee.display_details())  # Display employee details\n",
        "    bonus_percentage = 10  # Bonus percentage, e.g., 10%\n",
        "    bonus = employee.calculate_yearly_bonus(bonus_percentage)\n",
        "    print(f\"Yearly Bonus: ${bonus}\")\n"
      ],
      "metadata": {
        "colab": {
          "base_uri": "https://localhost:8080/"
        },
        "id": "CdpITu4CZsBP",
        "outputId": "6e7f0ae5-5209-4d85-8b13-e4906574c167"
      },
      "execution_count": 2,
      "outputs": [
        {
          "output_type": "stream",
          "name": "stdout",
          "text": [
            "Employee ID: E123\n",
            "Name: John Doe\n",
            "Salary: $50000\n",
            "Yearly Bonus: $5000.0\n"
          ]
        }
      ]
    },
    {
      "cell_type": "markdown",
      "source": [
        "In this code:\n",
        "\n",
        "- The Employee class is initialized with an employee ID, name, and salary.\n",
        "- The calculate_yearly_bonus method calculates the yearly bonus based on a given bonus percentage, and it returns the bonus amount. It checks if the bonus percentage is non-negative; otherwise, no bonus is given.\n",
        "- The display_details method provides a string representation of the employee's details.\n",
        "- In the usage example, we create an Employee object, display the employee details, and calculate the yearly bonus based on a given bonus percentage."
      ],
      "metadata": {
        "id": "6XjP1IjqZ9_r"
      }
    },
    {
      "cell_type": "markdown",
      "source": [
        "Problem 3: Vehicle Rental Create a class representing a vehicle rental system. Implement methods to rent a vehicle, return a vehicle, and display available vehicles."
      ],
      "metadata": {
        "id": "Sl0oTWKYabTb"
      }
    },
    {
      "cell_type": "code",
      "source": [
        "class VehicleRental:\n",
        "    def __init__(self):\n",
        "        # Initialize the rental system with an empty list of vehicles.\n",
        "        self.available_vehicles = []\n",
        "\n",
        "    def add_vehicle(self, vehicle):\n",
        "        # Add a vehicle to the list of available vehicles.\n",
        "        self.available_vehicles.append(vehicle)\n",
        "\n",
        "    def rent_vehicle(self, vehicle_type):\n",
        "        # Rent a vehicle of a specific type and remove it from the available vehicles list.\n",
        "        for vehicle in self.available_vehicles:\n",
        "            if vehicle.vehicle_type == vehicle_type and not vehicle.is_rented:\n",
        "                vehicle.rent()\n",
        "                self.available_vehicles.remove(vehicle)\n",
        "                return f\"Rented {vehicle_type} successfully.\"\n",
        "        return f\"No {vehicle_type} available for rent.\"\n",
        "\n",
        "    def return_vehicle(self, vehicle):\n",
        "        # Return a rented vehicle and add it back to the available vehicles list.\n",
        "        if vehicle.is_rented:\n",
        "            vehicle.return_vehicle()\n",
        "            self.available_vehicles.append(vehicle)\n",
        "            return f\"Returned {vehicle.vehicle_type} successfully.\"\n",
        "        return f\"This {vehicle.vehicle_type} is not rented.\"\n",
        "\n",
        "    def display_available_vehicles(self):\n",
        "        # Display a list of available vehicles.\n",
        "        available_vehicle_types = [vehicle.vehicle_type for vehicle in self.available_vehicles]\n",
        "        if available_vehicle_types:\n",
        "            return f\"Available vehicles: {', '.join(available_vehicle_types)}\"\n",
        "        else:\n",
        "            return \"No vehicles available for rent.\"\n",
        "\n",
        "class Vehicle:\n",
        "    def __init__(self, vehicle_type):\n",
        "        # Initialize a vehicle with its type and set its rented status to False.\n",
        "        self.vehicle_type = vehicle_type\n",
        "        self.is_rented = False\n",
        "\n",
        "    def rent(self):\n",
        "        # Set the rented status to True when the vehicle is rented.\n",
        "        self.is_rented = True\n",
        "\n",
        "    def return_vehicle(self):\n",
        "        # Set the rented status to False when the vehicle is returned.\n",
        "        self.is_rented = False\n",
        "\n",
        "# Usage example:\n",
        "if __name__ == \"__main__\":\n",
        "    rental_system = VehicleRental()\n",
        "\n",
        "    vehicle1 = Vehicle(\"Car\")\n",
        "    vehicle2 = Vehicle(\"Bike\")\n",
        "\n",
        "    rental_system.add_vehicle(vehicle1)\n",
        "    rental_system.add_vehicle(vehicle2)\n",
        "\n",
        "    print(rental_system.display_available_vehicles())\n",
        "\n",
        "    print(rental_system.rent_vehicle(\"Car\"))\n",
        "    print(rental_system.rent_vehicle(\"Bike\"))\n",
        "\n",
        "    print(rental_system.display_available_vehicles())\n",
        "\n",
        "    print(rental_system.return_vehicle(vehicle1))\n",
        "    print(rental_system.return_vehicle(vehicle2))\n",
        "\n",
        "    print(rental_system.display_available_vehicles())\n"
      ],
      "metadata": {
        "colab": {
          "base_uri": "https://localhost:8080/"
        },
        "id": "5jMSdxBeabzc",
        "outputId": "67b05527-bba7-4a54-a401-f7a31a7095b1"
      },
      "execution_count": 3,
      "outputs": [
        {
          "output_type": "stream",
          "name": "stdout",
          "text": [
            "Available vehicles: Car, Bike\n",
            "Rented Car successfully.\n",
            "Rented Bike successfully.\n",
            "No vehicles available for rent.\n",
            "Returned Car successfully.\n",
            "Returned Bike successfully.\n",
            "Available vehicles: Car, Bike\n"
          ]
        }
      ]
    },
    {
      "cell_type": "markdown",
      "source": [
        "In this code:\n",
        "\n",
        "- The VehicleRental class manages the rental system, including the list of available vehicles and methods to add, rent, return, and display vehicles.\n",
        "- The Vehicle class represents a vehicle with a type and its rented status."
      ],
      "metadata": {
        "id": "pZm3BzYKann6"
      }
    },
    {
      "cell_type": "markdown",
      "source": [
        "Problem 4: Library Catalog Create classes representing a library and a book. Implement methods to add books to the library, borrow books, and display available books."
      ],
      "metadata": {
        "id": "US1OZ2kLayEy"
      }
    },
    {
      "cell_type": "code",
      "source": [
        "class Book:\n",
        "    def __init__(self, title, author):\n",
        "        # Initialize a book with its title and author.\n",
        "        self.title = title\n",
        "        self.author = author\n",
        "        self.is_available = True\n",
        "\n",
        "    def borrow(self):\n",
        "        # Set the book's availability to False when it's borrowed.\n",
        "        if self.is_available:\n",
        "            self.is_available = False\n",
        "            return f\"Borrowed '{self.title}' by {self.author}.\"\n",
        "        return f\"'{self.title}' is already borrowed.\"\n",
        "\n",
        "    def return_book(self):\n",
        "        # Set the book's availability to True when it's returned.\n",
        "        if not self.is_available:\n",
        "            self.is_available = True\n",
        "            return f\"Returned '{self.title}' by {self.author}.\"\n",
        "        return f\"'{self.title}' is already available.\"\n",
        "\n",
        "    def __str__(self):\n",
        "        return f\"'{self.title}' by {self.author}\"\n",
        "\n",
        "class LibraryCatalog:\n",
        "    def __init__(self):\n",
        "        # Initialize the library catalog with an empty list of books.\n",
        "        self.books = []\n",
        "\n",
        "    def add_book(self, book):\n",
        "        # Add a book to the library catalog.\n",
        "        self.books.append(book)\n",
        "\n",
        "    def borrow_book(self, title):\n",
        "        # Borrow a book with a specific title from the library catalog.\n",
        "        for book in self.books:\n",
        "            if book.title == title:\n",
        "                return book.borrow()\n",
        "        return f\"'{title}' is not in the library catalog.\"\n",
        "\n",
        "    def return_book(self, title):\n",
        "        # Return a borrowed book to the library catalog.\n",
        "        for book in self.books:\n",
        "            if book.title == title:\n",
        "                return book.return_book()\n",
        "        return f\"'{title}' is not in the library catalog.\"\n",
        "\n",
        "    def display_available_books(self):\n",
        "        # Display a list of available books in the library catalog.\n",
        "        available_books = [book for book in self.books if book.is_available]\n",
        "        if available_books:\n",
        "            return \"Available books: \" + \", \".join(str(book) for book in available_books)\n",
        "        return \"No books available in the library.\"\n",
        "\n",
        "# Usage example:\n",
        "if __name__ == \"__main__\":\n",
        "    library = LibraryCatalog()\n",
        "\n",
        "    book1 = Book(\"The Catcher in the Rye\", \"J.D. Salinger\")\n",
        "    book2 = Book(\"To Kill a Mockingbird\", \"Harper Lee\")\n",
        "    book3 = Book(\"1984\", \"George Orwell\")\n",
        "\n",
        "    library.add_book(book1)\n",
        "    library.add_book(book2)\n",
        "    library.add_book(book3)\n",
        "\n",
        "    print(library.display_available_books())\n",
        "\n",
        "    print(library.borrow_book(\"The Catcher in the Rye\"))\n",
        "    print(library.borrow_book(\"To Kill a Mockingbird\"))\n",
        "\n",
        "    print(library.display_available_books())\n",
        "\n",
        "    print(library.return_book(\"The Catcher in the Rye\"))\n",
        "\n",
        "    print(library.display_available_books())\n"
      ],
      "metadata": {
        "colab": {
          "base_uri": "https://localhost:8080/"
        },
        "id": "gPtljCXma49h",
        "outputId": "ebf57cf5-bae2-4678-f6ec-d166ed60575d"
      },
      "execution_count": 4,
      "outputs": [
        {
          "output_type": "stream",
          "name": "stdout",
          "text": [
            "Available books: 'The Catcher in the Rye' by J.D. Salinger, 'To Kill a Mockingbird' by Harper Lee, '1984' by George Orwell\n",
            "Borrowed 'The Catcher in the Rye' by J.D. Salinger.\n",
            "Borrowed 'To Kill a Mockingbird' by Harper Lee.\n",
            "Available books: '1984' by George Orwell\n",
            "Returned 'The Catcher in the Rye' by J.D. Salinger.\n",
            "Available books: 'The Catcher in the Rye' by J.D. Salinger, '1984' by George Orwell\n"
          ]
        }
      ]
    },
    {
      "cell_type": "markdown",
      "source": [
        "In this code:\n",
        "\n",
        "- The Book class represents a book with attributes such as title, author, and availability.\n",
        "- The LibraryCatalog class manages the library catalog, including a list of books and methods to add, borrow, return, and display books."
      ],
      "metadata": {
        "id": "F8pmkyCya6cp"
      }
    },
    {
      "cell_type": "markdown",
      "source": [
        "Problem 5: Product Inventory Create classes representing a product and an inventory system. Implement methods to add products to the inventory, update product quantity, and display available products."
      ],
      "metadata": {
        "id": "l2b6fxH6bBUG"
      }
    },
    {
      "cell_type": "code",
      "source": [
        "class Product:\n",
        "    def __init__(self, product_id, name, price, quantity):\n",
        "        # Initialize a product with its ID, name, price, and quantity.\n",
        "        self.product_id = product_id\n",
        "        self.name = name\n",
        "        self.price = price\n",
        "        self.quantity = quantity\n",
        "\n",
        "    def update_quantity(self, new_quantity):\n",
        "        # Update the quantity of the product.\n",
        "        if new_quantity >= 0:\n",
        "            self.quantity = new_quantity\n",
        "            return f\"Quantity for {self.name} updated to {new_quantity}.\"\n",
        "        return \"Invalid quantity. Quantity must be non-negative.\"\n",
        "\n",
        "    def __str__(self):\n",
        "        return f\"Product ID: {self.product_id}, Name: {self.name}, Price: ${self.price}, Quantity: {self.quantity}\"\n",
        "\n",
        "class InventorySystem:\n",
        "    def __init__(self):\n",
        "        # Initialize the inventory system with an empty list of products.\n",
        "        self.products = []\n",
        "\n",
        "    def add_product(self, product):\n",
        "        # Add a product to the inventory system.\n",
        "        self.products.append(product)\n",
        "\n",
        "    def update_product_quantity(self, product_id, new_quantity):\n",
        "        # Update the quantity of a product in the inventory system.\n",
        "        for product in self.products:\n",
        "            if product.product_id == product_id:\n",
        "                return product.update_quantity(new_quantity)\n",
        "        return \"Product not found.\"\n",
        "\n",
        "    def display_available_products(self):\n",
        "        # Display a list of available products in the inventory system.\n",
        "        available_products = [product for product in self.products if product.quantity > 0]\n",
        "        if available_products:\n",
        "            return \"Available products:\\n\" + \"\\n\".join(str(product) for product in available_products)\n",
        "        return \"No products available in the inventory.\"\n",
        "\n",
        "# Usage example:\n",
        "if __name__ == \"__main__\":\n",
        "    inventory_system = InventorySystem()\n",
        "\n",
        "    product1 = Product(1, \"Laptop\", 800, 10)\n",
        "    product2 = Product(2, \"Phone\", 400, 20)\n",
        "    product3 = Product(3, \"Tablet\", 300, 15)\n",
        "\n",
        "    inventory_system.add_product(product1)\n",
        "    inventory_system.add_product(product2)\n",
        "    inventory_system.add_product(product3)\n",
        "\n",
        "    print(inventory_system.display_available_products())\n",
        "\n",
        "    print(inventory_system.update_product_quantity(1, 8))\n",
        "    print(inventory_system.update_product_quantity(2, -5))\n",
        "\n",
        "    print(inventory_system.display_available_products())\n"
      ],
      "metadata": {
        "colab": {
          "base_uri": "https://localhost:8080/"
        },
        "id": "xwZSg_4KbB9x",
        "outputId": "f419611b-15f7-4bfe-bae7-1d57696736e2"
      },
      "execution_count": 5,
      "outputs": [
        {
          "output_type": "stream",
          "name": "stdout",
          "text": [
            "Available products:\n",
            "Product ID: 1, Name: Laptop, Price: $800, Quantity: 10\n",
            "Product ID: 2, Name: Phone, Price: $400, Quantity: 20\n",
            "Product ID: 3, Name: Tablet, Price: $300, Quantity: 15\n",
            "Quantity for Laptop updated to 8.\n",
            "Invalid quantity. Quantity must be non-negative.\n",
            "Available products:\n",
            "Product ID: 1, Name: Laptop, Price: $800, Quantity: 8\n",
            "Product ID: 2, Name: Phone, Price: $400, Quantity: 20\n",
            "Product ID: 3, Name: Tablet, Price: $300, Quantity: 15\n"
          ]
        }
      ]
    },
    {
      "cell_type": "markdown",
      "source": [
        "In this code:\n",
        "\n",
        "- The Product class represents a product with attributes such as product ID, name, price, and quantity. It includes a method to update the product quantity.\n",
        "- The InventorySystem class manages the product inventory, including a list of products and methods to add products, update quantities, and display available products."
      ],
      "metadata": {
        "id": "qzMZPeUBbI1Q"
      }
    },
    {
      "cell_type": "markdown",
      "source": [
        "Problem 6: Shape Calculation Create a class representing a shape with attributes like length, width, and height. Implement methods to calculate the area and perimeter of the shape."
      ],
      "metadata": {
        "id": "za3XbqJ_bE_R"
      }
    },
    {
      "cell_type": "code",
      "source": [
        "class Shape:\n",
        "    def __init__(self, length=0, width=0, height=0):\n",
        "        # Initialize the shape with its dimensions (length, width, height).\n",
        "        self.length = length\n",
        "        self.width = width\n",
        "        self.height = height\n",
        "\n",
        "    def calculate_area(self):\n",
        "        # Calculate and return the area of the shape.\n",
        "        pass  # Specific shapes will implement their own area calculation.\n",
        "\n",
        "    def calculate_perimeter(self):\n",
        "        # Calculate and return the perimeter of the shape.\n",
        "        pass  # Specific shapes will implement their own perimeter calculation\n",
        "\n",
        "class Rectangle(Shape):\n",
        "    def calculate_area(self):\n",
        "        # Calculate the area of a rectangle (length * width).\n",
        "        return self.length * self.width\n",
        "\n",
        "    def calculate_perimeter(self):\n",
        "        # Calculate the perimeter of a rectangle (2 * (length + width)).\n",
        "        return 2 * (self.length + self.width)\n",
        "\n",
        "class Square(Rectangle):\n",
        "    def __init__(self, side):\n",
        "        # A square is a special case of a rectangle where all sides are equal.\n",
        "        super().__init__(side, side)\n",
        "\n",
        "class Triangle(Shape):\n",
        "    def calculate_area(self):\n",
        "        # Calculate the area of a triangle (0.5 * base * height).\n",
        "        return 0.5 * self.length * self.height\n",
        "\n",
        "    def calculate_perimeter(self):\n",
        "        # The perimeter of a triangle depends on its specific type, so it's not implemented here.\n",
        "        return \"Perimeter calculation depends on the type of triangle.\"\n",
        "\n",
        "# Usage example:\n",
        "if __name__ == \"__main__\":\n",
        "    rectangle = Rectangle(5, 4)\n",
        "    square = Square(3)\n",
        "    triangle = Triangle(4, 6)\n",
        "\n",
        "    print(f\"Rectangle Area: {rectangle.calculate_area()}\")\n",
        "    print(f\"Rectangle Perimeter: {rectangle.calculate_perimeter()}\")\n",
        "\n",
        "    print(f\"Square Area: {square.calculate_area()}\")\n",
        "    print(f\"Square Perimeter: {square.calculate_perimeter()}\")\n",
        "\n",
        "    print(f\"Triangle Area: {triangle.calculate_area()}\")\n",
        "    print(f\"Triangle Perimeter: {triangle.calculate_perimeter()}\")"
      ],
      "metadata": {
        "colab": {
          "base_uri": "https://localhost:8080/"
        },
        "id": "efR_hT4xbGkh",
        "outputId": "839ba962-a547-43d7-92fc-a4cfb5ac6d6b"
      },
      "execution_count": 6,
      "outputs": [
        {
          "output_type": "stream",
          "name": "stdout",
          "text": [
            "Rectangle Area: 20\n",
            "Rectangle Perimeter: 18\n",
            "Square Area: 9\n",
            "Square Perimeter: 12\n",
            "Triangle Area: 0.0\n",
            "Triangle Perimeter: Perimeter calculation depends on the type of triangle.\n"
          ]
        }
      ]
    },
    {
      "cell_type": "markdown",
      "source": [
        "In this code:\n",
        "\n",
        "- The Shape class serves as a base class with attributes for the dimensions of the shape (length, width, and height). It defines methods for calculating the area and perimeter, but these methods are left unimplemented as they depend on the specific shape type.\n",
        "\n",
        "- The Rectangle, Square, and Triangle classes inherit from the Shape class and provide their own implementations for calculating the area and, in the case of rectangles and squares, the perimeter.\n",
        "\n",
        "- The Square class is a special case of a rectangle where all sides are equal, so it only requires a single side length parameter."
      ],
      "metadata": {
        "id": "UGE8Yy8dbSvw"
      }
    },
    {
      "cell_type": "markdown",
      "source": [
        "Problem 7: Student Management Create a class representing a student with attributes like student ID, name, and grades. Implement methods to calculate the average grade and display student details."
      ],
      "metadata": {
        "id": "a85YFZdHbPcu"
      }
    },
    {
      "cell_type": "code",
      "source": [
        "class Student:\n",
        "    def __init__(self, student_id, name):\n",
        "        # Initialize a student with their ID, name, and an empty list of grades.\n",
        "        self.student_id = student_id\n",
        "        self.name = name\n",
        "        self.grades = []\n",
        "\n",
        "    def add_grade(self, grade):\n",
        "        # Add a grade to the student's list of grades.\n",
        "        if 0 <= grade <= 100:\n",
        "            self.grades.append(grade)\n",
        "            return f\"Added grade {grade} for {self.name}.\"\n",
        "        else:\n",
        "            return \"Invalid grade. Grade must be between 0 and 100.\"\n",
        "\n",
        "    def calculate_average_grade(self):\n",
        "        # Calculate and return the average grade of the student.\n",
        "        if len(self.grades) > 0:\n",
        "            average = sum(self.grades) / len(self.grades)\n",
        "            return average\n",
        "        else:\n",
        "            return \"No grades available for calculation.\"\n",
        "\n",
        "    def display_details(self):\n",
        "        # Display student details, including ID, name, and grades.\n",
        "        return f\"Student ID: {self.student_id}\\nName: {self.name}\\nGrades: {', '.join(map(str, self.grades))}\"\n",
        "\n",
        "# Usage example:\n",
        "if __name__ == \"__main__\":\n",
        "    student = Student(\"S123\", \"John Doe\")\n",
        "\n",
        "    print(student.display_details())\n",
        "    print(student.add_grade(90))\n",
        "    print(student.add_grade(85))\n",
        "    print(student.add_grade(78))\n",
        "    print(student.display_details())\n",
        "    print(f\"Average Grade: {student.calculate_average_grade()}\")\n"
      ],
      "metadata": {
        "colab": {
          "base_uri": "https://localhost:8080/"
        },
        "id": "rQxpJWIPbbh3",
        "outputId": "d0b6da52-9661-46d7-c17f-dac5321ce6d5"
      },
      "execution_count": 7,
      "outputs": [
        {
          "output_type": "stream",
          "name": "stdout",
          "text": [
            "Student ID: S123\n",
            "Name: John Doe\n",
            "Grades: \n",
            "Added grade 90 for John Doe.\n",
            "Added grade 85 for John Doe.\n",
            "Added grade 78 for John Doe.\n",
            "Student ID: S123\n",
            "Name: John Doe\n",
            "Grades: 90, 85, 78\n",
            "Average Grade: 84.33333333333333\n"
          ]
        }
      ]
    },
    {
      "cell_type": "markdown",
      "source": [
        "In this code:\n",
        "\n",
        "- The Student class initializes a student with their student ID, name, and an empty list of grades.\n",
        "- The add_grade method allows you to add a grade to the student's list of grades, with a range validation (0 to 100).\n",
        "- The calculate_average_grade method calculates and returns the average grade of the student based on the grades in their list.\n",
        "- The display_details method provides a string representation of the student's details, including ID, name, and grades."
      ],
      "metadata": {
        "id": "295Mr0V0bd_1"
      }
    },
    {
      "cell_type": "markdown",
      "source": [
        "Problem 8: Email Management Create a class representing an email with attributes like sender, recipient, and subject. Implement methods to send an email and display email details."
      ],
      "metadata": {
        "id": "OrlYUSuSbk4d"
      }
    },
    {
      "cell_type": "code",
      "source": [
        "class Email:\n",
        "    def __init__(self, sender, recipient, subject, message):\n",
        "        # Initialize an email with sender, recipient, subject, and message.\n",
        "        self.sender = sender\n",
        "        self.recipient = recipient\n",
        "        self.subject = subject\n",
        "        self.message = message\n",
        "        self.sent = False  # Email is not sent initially.\n",
        "\n",
        "    def send_email(self):\n",
        "        # Send the email.\n",
        "        if not self.sent:\n",
        "            self.sent = True\n",
        "            return f\"Email sent from {self.sender} to {self.recipient}.\"\n",
        "        return \"Email has already been sent.\"\n",
        "\n",
        "    def display_details(self):\n",
        "        # Display email details.\n",
        "        status = \"Sent\" if self.sent else \"Not Sent\"\n",
        "        details = f\"From: {self.sender}\\nTo: {self.recipient}\\nSubject: {self.subject}\\nStatus: {status}\\nMessage:\\n{self.message}\"\n",
        "        return details\n",
        "\n",
        "# Usage example:\n",
        "if __name__ == \"__main__\":\n",
        "    sender = \"sender@example.com\"\n",
        "    recipient = \"recipient@example.com\"\n",
        "    subject = \"Regarding Our Meeting\"\n",
        "    message = \"Dear John, I would like to schedule a meeting for next week to discuss our project.\"\n",
        "\n",
        "    email = Email(sender, recipient, subject, message)\n",
        "\n",
        "    print(email.display_details())\n",
        "    print(email.send_email())\n",
        "    print(email.display_details())\n"
      ],
      "metadata": {
        "colab": {
          "base_uri": "https://localhost:8080/"
        },
        "id": "Pwv290UbbdbM",
        "outputId": "1b4500da-0e66-45cc-bee6-eca8079b5b82"
      },
      "execution_count": 8,
      "outputs": [
        {
          "output_type": "stream",
          "name": "stdout",
          "text": [
            "From: sender@example.com\n",
            "To: recipient@example.com\n",
            "Subject: Regarding Our Meeting\n",
            "Status: Not Sent\n",
            "Message:\n",
            "Dear John, I would like to schedule a meeting for next week to discuss our project.\n",
            "Email sent from sender@example.com to recipient@example.com.\n",
            "From: sender@example.com\n",
            "To: recipient@example.com\n",
            "Subject: Regarding Our Meeting\n",
            "Status: Sent\n",
            "Message:\n",
            "Dear John, I would like to schedule a meeting for next week to discuss our project.\n"
          ]
        }
      ]
    },
    {
      "cell_type": "markdown",
      "source": [
        "In this code:\n",
        "\n",
        "- The Email class initializes an email with attributes such as the sender, recipient, subject, message, and an initial status of not sent.\n",
        "- The send_email method allows you to send the email and updates the status accordingly.\n",
        "- The display_details method provides a string representation of the email's details, including sender, recipient, subject, status, and the message."
      ],
      "metadata": {
        "id": "n3_1hwRAbyv-"
      }
    },
    {
      "cell_type": "markdown",
      "source": [
        "Problem 9: Social Media Profile Create a class representing a social media profile with attributes like username and posts. Implement methods to add posts, display posts, and search for posts by keyword."
      ],
      "metadata": {
        "id": "xeEWv3qzbq6k"
      }
    },
    {
      "cell_type": "code",
      "source": [
        "class SocialMediaProfile:\n",
        "    def __init__(self, username):\n",
        "        # Initialize a social media profile with a username and an empty list of posts.\n",
        "        self.username = username\n",
        "        self.posts = []\n",
        "\n",
        "    def add_post(self, content):\n",
        "        # Add a post to the profile.\n",
        "        self.posts.append(content)\n",
        "        return f\"New post added to {self.username}'s profile.\"\n",
        "\n",
        "    def display_posts(self):\n",
        "        # Display all posts in the profile.\n",
        "        if self.posts:\n",
        "            return \"\\n\".join(self.posts)\n",
        "        return f\"{self.username}'s profile has no posts yet.\"\n",
        "\n",
        "    def search_posts(self, keyword):\n",
        "        # Search for posts containing a specific keyword and display matching posts.\n",
        "        matching_posts = [post for post in self.posts if keyword in post]\n",
        "        if matching_posts:\n",
        "            return \"\\n\".join(matching_posts)\n",
        "        return f\"No posts found containing '{keyword}' in {self.username}'s profile.\"\n",
        "\n",
        "# Usage example:\n",
        "if __name__ == \"__main__\":\n",
        "    profile = SocialMediaProfile(\"JohnDoe\")\n",
        "\n",
        "    print(profile.add_post(\"Hello, everyone!\"))\n",
        "    print(profile.add_post(\"Enjoying a beautiful day at the park. #nature\"))\n",
        "    print(profile.add_post(\"New recipe I tried today: Chocolate chip cookies!\"))\n",
        "\n",
        "    print(\"\\n--- All Posts ---\")\n",
        "    print(profile.display_posts())\n",
        "\n",
        "    keyword = \"recipe\"\n",
        "    print(f\"\\n--- Posts Containing '{keyword}' ---\")\n",
        "    print(profile.search_posts(keyword))\n"
      ],
      "metadata": {
        "colab": {
          "base_uri": "https://localhost:8080/"
        },
        "id": "OrWke_CKbv12",
        "outputId": "d6e66e14-551b-4902-8065-61dde1a71831"
      },
      "execution_count": 10,
      "outputs": [
        {
          "output_type": "stream",
          "name": "stdout",
          "text": [
            "New post added to JohnDoe's profile.\n",
            "New post added to JohnDoe's profile.\n",
            "New post added to JohnDoe's profile.\n",
            "\n",
            "--- All Posts ---\n",
            "Hello, everyone!\n",
            "Enjoying a beautiful day at the park. #nature\n",
            "New recipe I tried today: Chocolate chip cookies!\n",
            "\n",
            "--- Posts Containing 'recipe' ---\n",
            "New recipe I tried today: Chocolate chip cookies!\n"
          ]
        }
      ]
    },
    {
      "cell_type": "markdown",
      "source": [
        "In this code:\n",
        "\n",
        "- The SocialMediaProfile class initializes a social media profile with a username and an empty list of posts.\n",
        "- The add_post method allows you to add a post to the profile.\n",
        "- The display_posts method displays all posts in the profile, and the search_posts method searches for posts containing a specific keyword."
      ],
      "metadata": {
        "id": "l1di48H8b8zs"
      }
    },
    {
      "cell_type": "markdown",
      "source": [
        "Problem 10: ToDo List Create a class representing a ToDo list with attributes like tasks and due dates. Implement methods to add tasks, mark tasks as completed, and display pending tasks."
      ],
      "metadata": {
        "id": "gVcsII0GbtRU"
      }
    },
    {
      "cell_type": "code",
      "source": [
        "class ToDoList:\n",
        "    def __init__(self):\n",
        "        # Initialize a ToDo list with an empty list of tasks.\n",
        "        self.tasks = []\n",
        "\n",
        "    def add_task(self, task, due_date):\n",
        "        # Add a task to the ToDo list along with its due date.\n",
        "        self.tasks.append({\"task\": task, \"due_date\": due_date, \"completed\": False})\n",
        "        return f\"Task '{task}' added to the list with a due date of {due_date}.\"\n",
        "\n",
        "    def mark_task_completed(self, task):\n",
        "        # Mark a task as completed.\n",
        "        for t in self.tasks:\n",
        "            if t[\"task\"] == task:\n",
        "                t[\"completed\"] = True\n",
        "                return f\"Task '{task}' marked as completed.\"\n",
        "        return f\"Task '{task}' not found in the list.\"\n",
        "\n",
        "    def display_pending_tasks(self):\n",
        "        # Display a list of pending tasks.\n",
        "        pending_tasks = [t[\"task\"] for t in self.tasks if not t[\"completed\"]]\n",
        "        if pending_tasks:\n",
        "            return \"Pending tasks: \" + \", \".join(pending_tasks)\n",
        "        return \"No pending tasks in the list.\"\n",
        "\n",
        "# Usage example:\n",
        "if __name__ == \"__main__\":\n",
        "    todo_list = ToDoList()\n",
        "\n",
        "    print(todo_list.add_task(\"Buy groceries\", \"2023-10-20\"))\n",
        "    print(todo_list.add_task(\"Finish the project\", \"2023-10-25\"))\n",
        "    print(todo_list.add_task(\"Call a friend\", \"2023-10-30\"))\n",
        "\n",
        "    print(\"\\n--- All Tasks ---\")\n",
        "    for task in todo_list.tasks:\n",
        "        print(f\"Task: {task['task']}, Due Date: {task['due_date']}, Completed: {task['completed']}\")\n",
        "\n",
        "    print(\"\\n--- Pending Tasks ---\")\n",
        "    print(todo_list.display_pending_tasks())\n",
        "\n",
        "    task_to_mark_completed = \"Buy groceries\"\n",
        "    print(f\"\\n--- Marking '{task_to_mark_completed}' as Completed ---\")\n",
        "    print(todo_list.mark_task_completed(task_to_mark_completed))\n",
        "\n",
        "    print(\"\\n--- Updated Pending Tasks ---\")\n",
        "    print(todo_list.display_pending_tasks())\n"
      ],
      "metadata": {
        "colab": {
          "base_uri": "https://localhost:8080/"
        },
        "id": "s5zzfZhobsxF",
        "outputId": "e64bdb2b-81eb-4ed3-b9e7-b6a707c09c33"
      },
      "execution_count": 11,
      "outputs": [
        {
          "output_type": "stream",
          "name": "stdout",
          "text": [
            "Task 'Buy groceries' added to the list with a due date of 2023-10-20.\n",
            "Task 'Finish the project' added to the list with a due date of 2023-10-25.\n",
            "Task 'Call a friend' added to the list with a due date of 2023-10-30.\n",
            "\n",
            "--- All Tasks ---\n",
            "Task: Buy groceries, Due Date: 2023-10-20, Completed: False\n",
            "Task: Finish the project, Due Date: 2023-10-25, Completed: False\n",
            "Task: Call a friend, Due Date: 2023-10-30, Completed: False\n",
            "\n",
            "--- Pending Tasks ---\n",
            "Pending tasks: Buy groceries, Finish the project, Call a friend\n",
            "\n",
            "--- Marking 'Buy groceries' as Completed ---\n",
            "Task 'Buy groceries' marked as completed.\n",
            "\n",
            "--- Updated Pending Tasks ---\n",
            "Pending tasks: Finish the project, Call a friend\n"
          ]
        }
      ]
    },
    {
      "cell_type": "markdown",
      "source": [
        "In this code:\n",
        "\n",
        "- The ToDoList class initializes a ToDo list with an empty list of tasks. Each task is represented as a dictionary with attributes for the task description, due date, and completion status.\n",
        "- The add_task method allows you to add a task to the ToDo list along with its due date.\n",
        "- The mark_task_completed method marks a specific task as completed.\n",
        "- The display_pending_tasks method displays a list of pending tasks that have not been completed."
      ],
      "metadata": {
        "id": "yR-w_8jRcP4E"
      }
    }
  ]
}